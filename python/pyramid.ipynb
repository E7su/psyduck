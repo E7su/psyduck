{
 "cells": [
  {
   "cell_type": "code",
   "execution_count": 1,
   "metadata": {},
   "outputs": [],
   "source": [
    "from random import randint"
   ]
  },
  {
   "cell_type": "code",
   "execution_count": 2,
   "metadata": {},
   "outputs": [
    {
     "name": "stdout",
     "output_type": "stream",
     "text": [
      "7195\n",
      "12030\n",
      "320170\n",
      "8171575\n",
      "36275455\n",
      "512145766\n",
      "3255413651\n",
      "21612452988\n",
      "380051585528\n",
      "0465807982629\n"
     ]
    }
   ],
   "source": [
    "for i in range(3, 13):\n",
    "    mystr = []\n",
    "    for j in range(i + 1):\n",
    "        mystr.append(str(randint(0, 9)))\n",
    "    result = ''.join(mystr)\n",
    "    print(result)\n",
    "    "
   ]
  },
  {
   "cell_type": "code",
   "execution_count": 3,
   "metadata": {},
   "outputs": [
    {
     "name": "stdout",
     "output_type": "stream",
     "text": [
      "                                    2525\n",
      "                                   12682\n",
      "                                  854732\n",
      "                                 6946486\n",
      "                                24543677\n",
      "                               572928208\n",
      "                              5061666908\n",
      "                             62494443752\n",
      "                            756136538318\n",
      "                           9941445278837\n"
     ]
    }
   ],
   "source": [
    "for i in range(3, 13):\n",
    "    mystr = []\n",
    "    for j in range(i + 1):\n",
    "        mystr.append(str(randint(0, 9)))\n",
    "    result = ''.join(mystr)\n",
    "    result = result.rjust(40, ' ')\n",
    "    print(result)"
   ]
  },
  {
   "cell_type": "code",
   "execution_count": 4,
   "metadata": {},
   "outputs": [
    {
     "name": "stdout",
     "output_type": "stream",
     "text": [
      "                                      4493                                      \n",
      "                                     88798                                      \n",
      "                                     579633                                     \n",
      "                                    4164091                                     \n",
      "                                    55284389                                    \n",
      "                                   923792923                                    \n",
      "                                   0867680674                                   \n",
      "                                  79477323934                                   \n",
      "                                  227010796182                                  \n",
      "                                 7912990082776                                  \n"
     ]
    }
   ],
   "source": [
    "for i in range(3, 13):\n",
    "    mystr = []\n",
    "    for j in range(i + 1):\n",
    "        mystr.append(str(randint(0, 9)))\n",
    "    result = ''.join(mystr)\n",
    "    result = result.center(80, ' ')\n",
    "    print(result)"
   ]
  },
  {
   "cell_type": "code",
   "execution_count": 5,
   "metadata": {},
   "outputs": [],
   "source": [
    "def center(string, length):\n",
    "    h = (length - len(string))/2\n",
    "    return ' ' * h + string"
   ]
  },
  {
   "cell_type": "code",
   "execution_count": 6,
   "metadata": {},
   "outputs": [
    {
     "name": "stdout",
     "output_type": "stream",
     "text": [
      "                                      2527\n",
      "                                     75171\n",
      "                                     160543\n",
      "                                    5172058\n",
      "                                    37192409\n",
      "                                   116311999\n",
      "                                   9604941679\n",
      "                                  80019859109\n",
      "                                  687103942482\n",
      "                                 5321966768924\n"
     ]
    }
   ],
   "source": [
    "for i in range(3, 13):\n",
    "    mystr = []\n",
    "    for j in range(i + 1):\n",
    "        mystr.append(str(randint(0, 9)))\n",
    "    result = ''.join(mystr)\n",
    "    result = center(result, 80)\n",
    "    print(result)"
   ]
  }
 ],
 "metadata": {
  "kernelspec": {
   "display_name": "Python 2",
   "language": "python",
   "name": "python2"
  },
  "language_info": {
   "codemirror_mode": {
    "name": "ipython",
    "version": 2
   },
   "file_extension": ".py",
   "mimetype": "text/x-python",
   "name": "python",
   "nbconvert_exporter": "python",
   "pygments_lexer": "ipython2",
   "version": "2.7.14"
  }
 },
 "nbformat": 4,
 "nbformat_minor": 2
}
